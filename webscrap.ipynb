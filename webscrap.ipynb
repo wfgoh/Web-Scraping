{
 "cells": [
  {
   "cell_type": "markdown",
   "metadata": {},
   "source": [
    "# Introduction"
   ]
  },
  {
   "cell_type": "markdown",
   "metadata": {},
   "source": [
    "Web scrapping extracts web content, usually in the form of texture characters through looking at HTML. It is a skill ought to be possessed by one working on data-related projects. [Jesses Steinweg-Woods](https://jessesw.com/Data-Science-Skills/) wrote a post about extracting skills required by data scientist job advertisements on Indeed in 2015. Since then, Indeed has changed the layout of their website, it's no longer plain HTML, but requires some \"interactions\" with the javascript. Based on his idea, I wrote a code to enable the \"interactions\" and extract the job skills using just Selenium.\n",
    "\n",
    "Basically, each job advertisement on Indeed has a base address plus a unique job ID. For example, https://www.indeed.com/jobs?q=%22data+scientist%22&l=Houston,+TX&vjk=9b6647ed6c731326, where the letters-numbers after vjk is the job ID. The code first get the job IDs, \"visits\" each \"job page\" and extracts the content, followed by post-processing."
   ]
  },
  {
   "cell_type": "markdown",
   "metadata": {},
   "source": [
    "<img src=\"screenshot.png\">"
   ]
  },
  {
   "cell_type": "markdown",
   "metadata": {},
   "source": [
    "Load libraries."
   ]
  },
  {
   "cell_type": "code",
   "execution_count": 1,
   "metadata": {},
   "outputs": [],
   "source": [
    "from nltk.corpus import stopwords\n",
    "from collections import Counter\n",
    "import numpy as np\n",
    "import re\n",
    "import pandas as pd\n",
    "from matplotlib import pyplot as plt"
   ]
  },
  {
   "cell_type": "markdown",
   "metadata": {},
   "source": [
    "Load Selenium Libraries. Install geckodriver at https://github.com/mozilla/geckodriver/releases"
   ]
  },
  {
   "cell_type": "code",
   "execution_count": 2,
   "metadata": {
    "collapsed": true
   },
   "outputs": [],
   "source": [
    "from selenium.webdriver import Firefox\n",
    "from selenium.webdriver.common.by import By\n",
    "from selenium.webdriver.common.keys import Keys\n",
    "from selenium.webdriver.firefox.options import Options\n",
    "from selenium.webdriver.support import expected_conditions as expected\n",
    "from selenium.webdriver.support.wait import WebDriverWait\n",
    "from selenium.common.exceptions import TimeoutException\n",
    "geckodriver_path = '/home/wfgoh/geckodriver' # location of geckodriver"
   ]
  },
  {
   "cell_type": "markdown",
   "metadata": {},
   "source": [
    "Each job advertisement has a base address followed by a unique ID. Use Selenium to go to each page (each page has roughly 10 jobs) to get their unique IDs. Note that some jobs might appear on more than one page."
   ]
  },
  {
   "cell_type": "code",
   "execution_count": 3,
   "metadata": {
    "collapsed": true
   },
   "outputs": [],
   "source": [
    "def get_jobid(what,city,state):\n",
    "    total_job = 500 # job limit\n",
    "    jobid = []\n",
    "    seen = set(jobid)\n",
    "    prev_job_num = 0\n",
    "    for i in range(0,total_job,10):\n",
    "        web = 'https://www.indeed.com/jobs?q=\"'+str(what)+'\"&l='+str(city)+',+'+str(state)+'&start='+str(i)\n",
    "        web_base = 'https://www.indeed.com/jobs?q=\"'+str(what)+'\"&l='+str(city)+',+'+str(state)\n",
    "        options = Options()\n",
    "        options.add_argument('-headless')\n",
    "        driver = Firefox(executable_path=geckodriver_path, firefox_options=options)\n",
    "        wait = WebDriverWait(driver, timeout=10)\n",
    "        driver.get(web)\n",
    "        src = driver.page_source\n",
    "        driver.quit()\n",
    "\n",
    "        if i == 0:\n",
    "            #print(web)\n",
    "            for line in src.splitlines():\n",
    "                if 'name=\\\"description\\\"' in line:\n",
    "                    line = re.sub(\"[^a-zA-Z0-9]\",\"\", line)\n",
    "                    num_job = re.findall('\\d+',line)[0]\n",
    "            print(num_job, ' Data Scientist jobs available in ', city, state,' on Indeed.com.' )\n",
    "\n",
    "        for line in src.splitlines():\n",
    "            if 'jobKeysWithInfo[\\'' in line:\n",
    "                jid = line.split('\\'')[1]\n",
    "                if jid not in seen:\n",
    "                    seen.add(jid)\n",
    "                    jobid.append(jid)\n",
    "                    \n",
    "        if len(jobid) == num_job or len(jobid) == prev_job_num:\n",
    "            print('Number of (non-repeated) job found = ',len(jobid))\n",
    "            break\n",
    "        prev_job_num = len(jobid)\n",
    "\n",
    "    return jobid, web_base"
   ]
  },
  {
   "cell_type": "markdown",
   "metadata": {},
   "source": [
    "This get_text function \"interacts\" with the javascript using Selenium and displays the web content. The content is then processed by removing non-alphabets and stop words, such as \"a\", \"an\", \"the\", etc."
   ]
  },
  {
   "cell_type": "code",
   "execution_count": 4,
   "metadata": {
    "collapsed": true
   },
   "outputs": [],
   "source": [
    "def get_text(website):\n",
    "    \n",
    "    options = Options()\n",
    "    options.add_argument('-headless')\n",
    "    driver = Firefox(executable_path=geckodriver_path, firefox_options=options)\n",
    "    #wait = WebDriverWait(driver, timeout=10)\n",
    "    driver.get(website)\n",
    "    try:\n",
    "        wait = WebDriverWait(driver, 15)\n",
    "        condition = expected.element_to_be_clickable((By.ID, 'vjs-container'))\n",
    "        element = wait.until(condition)\n",
    "        vjs = driver.find_element_by_id('vjs-container')\n",
    "        content = vjs.text\n",
    "    except TimeoutException as e:\n",
    "        print(e)\n",
    "    #vjs = driver.find_element_by_id('vjs-container')\n",
    "    #content = vjs.text\n",
    "    driver.quit()\n",
    "    \n",
    "    text = re.sub(\"[^a-zA-Z]\",\" \", content).lower().split()\n",
    "    stop_words = set(stopwords.words(\"english\"))\n",
    "    text = sorted(list(set([w for w in text if not w in stop_words])))\n",
    "    \n",
    "    return text"
   ]
  },
  {
   "cell_type": "markdown",
   "metadata": {},
   "source": [
    "Extract the job description for each job using get_text function (see above). Each job has an address of base + vjk=ID."
   ]
  },
  {
   "cell_type": "code",
   "execution_count": 5,
   "metadata": {
    "collapsed": true
   },
   "outputs": [],
   "source": [
    "def get_job_desc(jobid,web_base):\n",
    "    urls = []\n",
    "    for i in range(len(jobid)):\n",
    "        urls.append(web_base+'&vjk='+str(jobid[i]))\n",
    "    job_desc = []\n",
    "    for website in urls:\n",
    "        #print(website)\n",
    "        desc = get_text(website)\n",
    "        if desc:\n",
    "            job_desc.append(desc)\n",
    "    print('Number of (non-repeated) jobs found = ', len(job_desc))\n",
    "    return job_desc"
   ]
  },
  {
   "cell_type": "markdown",
   "metadata": {},
   "source": [
    "Last step, count the number of occurences with Counter."
   ]
  },
  {
   "cell_type": "code",
   "execution_count": 6,
   "metadata": {
    "collapsed": true
   },
   "outputs": [],
   "source": [
    "def count_tools(job_desc):\n",
    "    freq = Counter()\n",
    "    [freq.update(item) for item in job_desc]\n",
    "    dict_prog = Counter({'Python':freq['python'], 'R':freq['r'], 'Fortran':freq['fortran'],\n",
    "                        'Java':freq['java'], 'C++':freq['c++'], 'Ruby':freq['ruby'],\n",
    "                        'Mathematica':freq['mathematica'], 'Matlab':freq['matlab'], 'Perl':freq['perl'], \n",
    "                        'JavaScript':freq['javascript'], 'Scala': freq['scala']})\n",
    "\n",
    "    dict_analy = Counter({'Excel':freq['excel'],  'Tableau':freq['tableau'], 'D3.js':freq['d3.js'], \n",
    "                        'SAS':freq['sas'], 'SPSS':freq['spss'], 'D3':freq['d3']})  \n",
    "\n",
    "    dict_hadoop = Counter({'Hadoop':freq['hadoop'], 'MapReduce':freq['mapreduce'], 'Spark':freq['spark'],\n",
    "                    'Pig':freq['pig'], 'Hive':freq['hive'], 'Shark':freq['shark'],\n",
    "                    'Oozie':freq['oozie'], 'ZooKeeper':freq['zookeeper'], 'Flume':freq['flume'],\n",
    "                    'Mahout':freq['mahout']})\n",
    "\n",
    "    dict_datab = Counter({'SQL':freq['sql'], 'NoSQL':freq['nosql'], 'HBase':freq['hbase'],\n",
    "                        'Cassandra':freq['cassandra'], 'MongoDB':freq['mongodb']})\n",
    "\n",
    "    dict_total = dict_prog + dict_analy + dict_hadoop + dict_datab\n",
    "    \n",
    "    return dict_total.most_common()"
   ]
  },
  {
   "cell_type": "markdown",
   "metadata": {},
   "source": [
    "Let's look for Data Scientist jobs within Houston, TX!"
   ]
  },
  {
   "cell_type": "code",
   "execution_count": 69,
   "metadata": {},
   "outputs": [
    {
     "name": "stdout",
     "output_type": "stream",
     "text": [
      "35  Data Scientist jobs available in  Houston TX  on Indeed.com.\n",
      "Number of (non-repeated) job found =  32\n",
      "https://www.indeed.com/jobs?q=\"data+scientist\"&l=Houston,+TX&vjk=9b6647ed6c731326\n",
      "https://www.indeed.com/jobs?q=\"data+scientist\"&l=Houston,+TX&vjk=2d968e6ab489a5c5\n",
      "https://www.indeed.com/jobs?q=\"data+scientist\"&l=Houston,+TX&vjk=d66abdca626064cd\n",
      "https://www.indeed.com/jobs?q=\"data+scientist\"&l=Houston,+TX&vjk=a6e22bcf691b7dbe\n",
      "https://www.indeed.com/jobs?q=\"data+scientist\"&l=Houston,+TX&vjk=c31bb8e1dd53e576\n",
      "https://www.indeed.com/jobs?q=\"data+scientist\"&l=Houston,+TX&vjk=f3ffa6c9503838c1\n",
      "https://www.indeed.com/jobs?q=\"data+scientist\"&l=Houston,+TX&vjk=8c00d8e1e48fee9c\n",
      "https://www.indeed.com/jobs?q=\"data+scientist\"&l=Houston,+TX&vjk=30f92fc8a5035c91\n",
      "https://www.indeed.com/jobs?q=\"data+scientist\"&l=Houston,+TX&vjk=3e775b4e96b68910\n",
      "https://www.indeed.com/jobs?q=\"data+scientist\"&l=Houston,+TX&vjk=361412f227add1f3\n",
      "https://www.indeed.com/jobs?q=\"data+scientist\"&l=Houston,+TX&vjk=80b91998b12e8bf3\n",
      "https://www.indeed.com/jobs?q=\"data+scientist\"&l=Houston,+TX&vjk=c2c04340cbcc3926\n",
      "https://www.indeed.com/jobs?q=\"data+scientist\"&l=Houston,+TX&vjk=d30eb9940c7f6766\n",
      "https://www.indeed.com/jobs?q=\"data+scientist\"&l=Houston,+TX&vjk=95b468510a383ab4\n",
      "https://www.indeed.com/jobs?q=\"data+scientist\"&l=Houston,+TX&vjk=e31816cdf0e07ef2\n",
      "https://www.indeed.com/jobs?q=\"data+scientist\"&l=Houston,+TX&vjk=e5fb677bb5f69037\n",
      "https://www.indeed.com/jobs?q=\"data+scientist\"&l=Houston,+TX&vjk=46c5f4306a5c1d1d\n",
      "https://www.indeed.com/jobs?q=\"data+scientist\"&l=Houston,+TX&vjk=a932376b72b774a6\n",
      "https://www.indeed.com/jobs?q=\"data+scientist\"&l=Houston,+TX&vjk=137abd479c2150db\n",
      "https://www.indeed.com/jobs?q=\"data+scientist\"&l=Houston,+TX&vjk=314a0d5c85c3eaec\n",
      "https://www.indeed.com/jobs?q=\"data+scientist\"&l=Houston,+TX&vjk=15be56ee3fc38507\n",
      "https://www.indeed.com/jobs?q=\"data+scientist\"&l=Houston,+TX&vjk=34331b0c2105a63c\n",
      "https://www.indeed.com/jobs?q=\"data+scientist\"&l=Houston,+TX&vjk=c959884c0f4e7fd3\n",
      "https://www.indeed.com/jobs?q=\"data+scientist\"&l=Houston,+TX&vjk=f1b2f454059a7354\n",
      "https://www.indeed.com/jobs?q=\"data+scientist\"&l=Houston,+TX&vjk=8284fbcac1cf7b82\n",
      "https://www.indeed.com/jobs?q=\"data+scientist\"&l=Houston,+TX&vjk=43b305d5eb5e6b69\n",
      "https://www.indeed.com/jobs?q=\"data+scientist\"&l=Houston,+TX&vjk=01704d8f496911ba\n",
      "https://www.indeed.com/jobs?q=\"data+scientist\"&l=Houston,+TX&vjk=5dc6aa25f93fe034\n",
      "https://www.indeed.com/jobs?q=\"data+scientist\"&l=Houston,+TX&vjk=c42af2c8308729e8\n",
      "https://www.indeed.com/jobs?q=\"data+scientist\"&l=Houston,+TX&vjk=e49b400b81a7d3c9\n",
      "https://www.indeed.com/jobs?q=\"data+scientist\"&l=Houston,+TX&vjk=8654c742b2de7776\n",
      "https://www.indeed.com/jobs?q=\"data+scientist\"&l=Houston,+TX&vjk=87b77e1b1b230af0\n",
      "Number of (non-repeated) jobs found =  32\n"
     ]
    }
   ],
   "source": [
    "jobid, web_base = get_jobid('data+scientist','Houston','TX')\n",
    "job_desc = get_job_desc(jobid,web_base)\n",
    "data = count_tools(job_desc)"
   ]
  },
  {
   "cell_type": "markdown",
   "metadata": {},
   "source": [
    "Plot the results."
   ]
  },
  {
   "cell_type": "code",
   "execution_count": 70,
   "metadata": {},
   "outputs": [
    {
     "data": {
      "image/png": "[encoded data removed]",
      "text/plain": [
       "<matplotlib.figure.Figure at 0x7efe30bf60f0>"
      ]
     },
     "metadata": {},
     "output_type": "display_data"
    }
   ],
   "source": [
    "pd.DataFrame(data, columns = ['tools','count']).plot.bar('tools','count')\n",
    "plt.title('Houston, TX')\n",
    "plt.show()"
   ]
  },
  {
   "cell_type": "code",
   "execution_count": null,
   "metadata": {
    "collapsed": true
   },
   "outputs": [],
   "source": []
  }
 ],
 "metadata": {
  "kernelspec": {
   "display_name": "Python 3",
   "language": "python",
   "name": "python3"
  },
  "language_info": {
   "codemirror_mode": {
    "name": "ipython",
    "version": 3
   },
   "file_extension": ".py",
   "mimetype": "text/x-python",
   "name": "python",
   "nbconvert_exporter": "python",
   "pygments_lexer": "ipython3",
   "version": "3.6.1"
  }
 },
 "nbformat": 4,
 "nbformat_minor": 2
}
